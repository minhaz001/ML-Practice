{
 "cells": [
  {
   "cell_type": "code",
   "execution_count": 67,
   "id": "060d1ccc",
   "metadata": {},
   "outputs": [],
   "source": [
    "def odd_even_sum(lst):\n",
    "    even_sum= 0\n",
    "    odd_sum= 0\n",
    "    for i in lst:\n",
    "        if i%2 == 0:\n",
    "            even_sum= even_sum + i\n",
    "        else:\n",
    "            odd_sum=odd_sum+i\n",
    "    return (odd_sum, even_sum)"
   ]
  },
  {
   "cell_type": "code",
   "execution_count": 68,
   "id": "9b6e4baa",
   "metadata": {},
   "outputs": [],
   "source": [
    "l1=[1,2,4,7,8,9,11,16,21,24,27,31,42]\n",
    "l2=[4,6,8,9,13,16,22,29,31,34,46]"
   ]
  },
  {
   "cell_type": "code",
   "execution_count": 69,
   "id": "4d9491e1",
   "metadata": {},
   "outputs": [
    {
     "data": {
      "text/plain": [
       "(82, 136)"
      ]
     },
     "execution_count": 69,
     "metadata": {},
     "output_type": "execute_result"
    }
   ],
   "source": [
    "odd_even_sum(l2)"
   ]
  },
  {
   "cell_type": "code",
   "execution_count": 70,
   "id": "9e8907fe",
   "metadata": {},
   "outputs": [],
   "source": [
    "def Sum(num1,num2):\n",
    "    print (num1*num2)\n",
    "    print('oops got multiplied')\n",
    "    print( 'correct solution:', num1+num2)"
   ]
  },
  {
   "cell_type": "code",
   "execution_count": 71,
   "id": "361b3e9a",
   "metadata": {},
   "outputs": [
    {
     "name": "stdout",
     "output_type": "stream",
     "text": [
      "35\n",
      "oops got multiplied\n",
      "correct solution: 12\n"
     ]
    }
   ],
   "source": [
    "Sum(5,7)"
   ]
  },
  {
   "cell_type": "code",
   "execution_count": 72,
   "id": "07c069a0",
   "metadata": {},
   "outputs": [],
   "source": [
    "def fn(*args, **kwargs):\n",
    "    print(args)\n",
    "    print(kwargs)"
   ]
  },
  {
   "cell_type": "code",
   "execution_count": 73,
   "id": "f98554e8",
   "metadata": {},
   "outputs": [
    {
     "name": "stdout",
     "output_type": "stream",
     "text": [
      "('car', 'mercedes benz', 'yellow')\n",
      "{'year': 1986, 'price': 500000}\n"
     ]
    }
   ],
   "source": [
    "fn('car','mercedes benz', 'yellow', year=1986, price=500000)"
   ]
  },
  {
   "cell_type": "markdown",
   "id": "5224927d",
   "metadata": {},
   "source": [
    "map functions"
   ]
  },
  {
   "cell_type": "code",
   "execution_count": 13,
   "id": "577516e3",
   "metadata": {},
   "outputs": [],
   "source": [
    "def even_or_odd(num):\n",
    "    if num%2 == 0:\n",
    "        return('The number {}  is even'.format(num))\n",
    "    else:\n",
    "        return('The number {}  is odd'.format(num))"
   ]
  },
  {
   "cell_type": "code",
   "execution_count": 14,
   "id": "071c4933",
   "metadata": {},
   "outputs": [
    {
     "data": {
      "text/plain": [
       "'The number 27  is odd'"
      ]
     },
     "execution_count": 14,
     "metadata": {},
     "output_type": "execute_result"
    }
   ],
   "source": [
    "even_or_odd(27)"
   ]
  },
  {
   "cell_type": "code",
   "execution_count": 15,
   "id": "3bee75b9",
   "metadata": {},
   "outputs": [],
   "source": [
    "l1=[1,2,3,7,8,9,24,45,56,84,89,92,100]"
   ]
  },
  {
   "cell_type": "code",
   "execution_count": 81,
   "id": "7d3c7729",
   "metadata": {},
   "outputs": [
    {
     "data": {
      "text/plain": [
       "['The number 1  is odd',\n",
       " 'The number 2  is even',\n",
       " 'The number 3  is odd',\n",
       " 'The number 7  is odd',\n",
       " 'The number 8  is even',\n",
       " 'The number 9  is odd',\n",
       " 'The number 24  is even',\n",
       " 'The number 45  is odd',\n",
       " 'The number 56  is even',\n",
       " 'The number 84  is even',\n",
       " 'The number 89  is odd',\n",
       " 'The number 92  is even',\n",
       " 'The number 100  is even']"
      ]
     },
     "execution_count": 81,
     "metadata": {},
     "output_type": "execute_result"
    }
   ],
   "source": [
    "list(map(even_or_odd,l1))"
   ]
  },
  {
   "cell_type": "markdown",
   "id": "396b95d0",
   "metadata": {},
   "source": [
    "lambda function"
   ]
  },
  {
   "cell_type": "code",
   "execution_count": 82,
   "id": "1d843688",
   "metadata": {},
   "outputs": [],
   "source": [
    "def add(a,b):\n",
    "    return a+b"
   ]
  },
  {
   "cell_type": "code",
   "execution_count": 83,
   "id": "bd4729cd",
   "metadata": {},
   "outputs": [
    {
     "data": {
      "text/plain": [
       "38"
      ]
     },
     "execution_count": 83,
     "metadata": {},
     "output_type": "execute_result"
    }
   ],
   "source": [
    "add(12,26)"
   ]
  },
  {
   "cell_type": "code",
   "execution_count": 1,
   "id": "ae43797b",
   "metadata": {},
   "outputs": [
    {
     "data": {
      "text/plain": [
       "38"
      ]
     },
     "execution_count": 1,
     "metadata": {},
     "output_type": "execute_result"
    }
   ],
   "source": [
    "plus= lambda a,b:a+b\n",
    "plus (12,26)"
   ]
  },
  {
   "cell_type": "code",
   "execution_count": 6,
   "id": "253d8491",
   "metadata": {},
   "outputs": [],
   "source": [
    "def odd(num):\n",
    "    if num%2 != 0:\n",
    "        return True\n",
    "    else:\n",
    "        return False"
   ]
  },
  {
   "cell_type": "code",
   "execution_count": 7,
   "id": "462b7462",
   "metadata": {},
   "outputs": [],
   "source": [
    "l1=[1,2,3,7,8,9,24,45,56,84,89,92,100]"
   ]
  },
  {
   "cell_type": "code",
   "execution_count": 8,
   "id": "323b0961",
   "metadata": {},
   "outputs": [
    {
     "data": {
      "text/plain": [
       "[1, 3, 7, 9, 45, 89]"
      ]
     },
     "execution_count": 8,
     "metadata": {},
     "output_type": "execute_result"
    }
   ],
   "source": [
    "list(filter(odd, l1))"
   ]
  },
  {
   "cell_type": "code",
   "execution_count": 10,
   "id": "7ee70259",
   "metadata": {},
   "outputs": [
    {
     "data": {
      "text/plain": [
       "[True,\n",
       " False,\n",
       " True,\n",
       " True,\n",
       " False,\n",
       " True,\n",
       " False,\n",
       " True,\n",
       " False,\n",
       " False,\n",
       " True,\n",
       " False,\n",
       " False]"
      ]
     },
     "execution_count": 10,
     "metadata": {},
     "output_type": "execute_result"
    }
   ],
   "source": [
    "list(map(odd, l1))"
   ]
  },
  {
   "cell_type": "code",
   "execution_count": null,
   "id": "26d32c94",
   "metadata": {},
   "outputs": [],
   "source": []
  },
  {
   "cell_type": "code",
   "execution_count": 11,
   "id": "8f67f6a1",
   "metadata": {},
   "outputs": [],
   "source": [
    "lst1=[]\n",
    "def lst_square(lst):\n",
    "    for i in lst:\n",
    "        lst1.append(i*i)\n",
    "    return lst1"
   ]
  },
  {
   "cell_type": "code",
   "execution_count": 12,
   "id": "6bcf4cd2",
   "metadata": {},
   "outputs": [
    {
     "data": {
      "text/plain": [
       "[1, 4, 9, 16, 25, 36, 49, 64, 81]"
      ]
     },
     "execution_count": 12,
     "metadata": {},
     "output_type": "execute_result"
    }
   ],
   "source": [
    "lst_square([1,2,3,4,5,6,7,8,9])"
   ]
  },
  {
   "cell_type": "code",
   "execution_count": 17,
   "id": "7d137a2a",
   "metadata": {},
   "outputs": [],
   "source": [
    "## List Comprehension\n",
    "l1=[1,2,3,4,5,6,7,8,9]\n",
    "lc1= [i*i for i in l1]"
   ]
  },
  {
   "cell_type": "code",
   "execution_count": 18,
   "id": "bcd7a92e",
   "metadata": {},
   "outputs": [
    {
     "data": {
      "text/plain": [
       "[1, 4, 9, 16, 25, 36, 49, 64, 81]"
      ]
     },
     "execution_count": 18,
     "metadata": {},
     "output_type": "execute_result"
    }
   ],
   "source": [
    "lc1"
   ]
  },
  {
   "cell_type": "code",
   "execution_count": 19,
   "id": "bcf7a8ef",
   "metadata": {},
   "outputs": [
    {
     "data": {
      "text/plain": [
       "[4, 16, 36, 64]"
      ]
     },
     "execution_count": 19,
     "metadata": {},
     "output_type": "execute_result"
    }
   ],
   "source": [
    "#onle squaring even numbers\n",
    "lc2= [i*i for i in l1 if i%2==0]\n",
    "lc2"
   ]
  },
  {
   "cell_type": "code",
   "execution_count": 20,
   "id": "682aebda",
   "metadata": {},
   "outputs": [
    {
     "data": {
      "text/plain": [
       "[8, 11, 14, 17, 20, 23, 26, 29, 32]"
      ]
     },
     "execution_count": 20,
     "metadata": {},
     "output_type": "execute_result"
    }
   ],
   "source": [
    "lc3= [3*i+5 for i in l1]\n",
    "lc3"
   ]
  },
  {
   "cell_type": "markdown",
   "id": "093565d1",
   "metadata": {},
   "source": [
    "string formatting"
   ]
  },
  {
   "cell_type": "code",
   "execution_count": 27,
   "id": "be10f71c",
   "metadata": {},
   "outputs": [],
   "source": [
    "def welcome(name,age):\n",
    "    return 'Hi {}. you are {} years old'.format(name,age)"
   ]
  },
  {
   "cell_type": "code",
   "execution_count": 28,
   "id": "3a87688f",
   "metadata": {},
   "outputs": [
    {
     "data": {
      "text/plain": [
       "'Hi rob. you are 80 years old'"
      ]
     },
     "execution_count": 28,
     "metadata": {},
     "output_type": "execute_result"
    }
   ],
   "source": [
    "welcome('rob',80)"
   ]
  },
  {
   "cell_type": "code",
   "execution_count": 31,
   "id": "7791e9b1",
   "metadata": {},
   "outputs": [],
   "source": [
    "def welcome2(name,age):\n",
    "    return 'Hi {a}. you are {b} years old. Hi again {a}'.format(a=name, b= age)"
   ]
  },
  {
   "cell_type": "code",
   "execution_count": 32,
   "id": "b6424649",
   "metadata": {},
   "outputs": [
    {
     "data": {
      "text/plain": [
       "'Hi bob. you are 60 years old. Hi again bob'"
      ]
     },
     "execution_count": 32,
     "metadata": {},
     "output_type": "execute_result"
    }
   ],
   "source": [
    "welcome2('bob', 60)"
   ]
  },
  {
   "cell_type": "markdown",
   "id": "f0d5e4cf",
   "metadata": {},
   "source": [
    "#iterable and iterators"
   ]
  },
  {
   "cell_type": "code",
   "execution_count": 34,
   "id": "58b807b4",
   "metadata": {},
   "outputs": [],
   "source": [
    "l1= [1,2,3,4,5,6,7,8,9,10]"
   ]
  },
  {
   "cell_type": "code",
   "execution_count": 36,
   "id": "f90df3ef",
   "metadata": {},
   "outputs": [
    {
     "name": "stdout",
     "output_type": "stream",
     "text": [
      "1\n",
      "2\n",
      "3\n",
      "4\n",
      "5\n",
      "6\n",
      "7\n",
      "8\n",
      "9\n",
      "10\n"
     ]
    }
   ],
   "source": [
    "for i in l1:\n",
    "    print (i)"
   ]
  },
  {
   "cell_type": "code",
   "execution_count": 66,
   "id": "5695a8ff",
   "metadata": {},
   "outputs": [],
   "source": [
    "lst1=iter(l1)"
   ]
  },
  {
   "cell_type": "code",
   "execution_count": 67,
   "id": "d3b82807",
   "metadata": {},
   "outputs": [
    {
     "data": {
      "text/plain": [
       "<list_iterator at 0x2545ceed6f0>"
      ]
     },
     "execution_count": 67,
     "metadata": {},
     "output_type": "execute_result"
    }
   ],
   "source": [
    "lst1"
   ]
  },
  {
   "cell_type": "code",
   "execution_count": 70,
   "id": "39d6d9d4",
   "metadata": {
    "scrolled": true
   },
   "outputs": [
    {
     "data": {
      "text/plain": [
       "3"
      ]
     },
     "execution_count": 70,
     "metadata": {},
     "output_type": "execute_result"
    }
   ],
   "source": [
    "next(lst1)"
   ]
  },
  {
   "cell_type": "code",
   "execution_count": 71,
   "id": "2cd56d11",
   "metadata": {},
   "outputs": [
    {
     "name": "stdout",
     "output_type": "stream",
     "text": [
      "4\n",
      "5\n",
      "6\n",
      "7\n",
      "8\n",
      "9\n",
      "10\n"
     ]
    }
   ],
   "source": [
    "for i in lst1:\n",
    "    print (i)"
   ]
  },
  {
   "cell_type": "code",
   "execution_count": 72,
   "id": "f77eba41",
   "metadata": {},
   "outputs": [],
   "source": [
    "## Classes"
   ]
  },
  {
   "cell_type": "code",
   "execution_count": 81,
   "id": "88978a2a",
   "metadata": {},
   "outputs": [],
   "source": [
    "class Car:\n",
    "    def __init__(self,model,year,color,engine):\n",
    "        self.model=model\n",
    "        self.year=year\n",
    "        self.color=color\n",
    "        self.engine=engine\n",
    "    def driving(self):\n",
    "        return 'this is a {} car'.format(self.engine)"
   ]
  },
  {
   "cell_type": "code",
   "execution_count": 82,
   "id": "3e7af879",
   "metadata": {},
   "outputs": [],
   "source": [
    "car1=Car('Audi',1994,'red','diesel')\n",
    "car2=Car('Ford Mustang', 1980,'silver', 'petrol')"
   ]
  },
  {
   "cell_type": "code",
   "execution_count": 83,
   "id": "97a39420",
   "metadata": {},
   "outputs": [
    {
     "data": {
      "text/plain": [
       "'this is a petrol car'"
      ]
     },
     "execution_count": 83,
     "metadata": {},
     "output_type": "execute_result"
    }
   ],
   "source": [
    "car2.driving()"
   ]
  },
  {
   "cell_type": "code",
   "execution_count": 84,
   "id": "a8c4802e",
   "metadata": {},
   "outputs": [
    {
     "data": {
      "text/plain": [
       "'red'"
      ]
     },
     "execution_count": 84,
     "metadata": {},
     "output_type": "execute_result"
    }
   ],
   "source": [
    "car1.color"
   ]
  },
  {
   "cell_type": "code",
   "execution_count": 85,
   "id": "f54a90eb",
   "metadata": {},
   "outputs": [
    {
     "data": {
      "text/plain": [
       "'Ford Mustang'"
      ]
     },
     "execution_count": 85,
     "metadata": {},
     "output_type": "execute_result"
    }
   ],
   "source": [
    "car2.model"
   ]
  },
  {
   "cell_type": "code",
   "execution_count": 86,
   "id": "d079e0ca",
   "metadata": {},
   "outputs": [
    {
     "data": {
      "text/plain": [
       "'silver'"
      ]
     },
     "execution_count": 86,
     "metadata": {},
     "output_type": "execute_result"
    }
   ],
   "source": [
    "car2.color"
   ]
  },
  {
   "cell_type": "code",
   "execution_count": null,
   "id": "06c112f2",
   "metadata": {},
   "outputs": [],
   "source": []
  }
 ],
 "metadata": {
  "kernelspec": {
   "display_name": "Python 3 (ipykernel)",
   "language": "python",
   "name": "python3"
  },
  "language_info": {
   "codemirror_mode": {
    "name": "ipython",
    "version": 3
   },
   "file_extension": ".py",
   "mimetype": "text/x-python",
   "name": "python",
   "nbconvert_exporter": "python",
   "pygments_lexer": "ipython3",
   "version": "3.10.2"
  }
 },
 "nbformat": 4,
 "nbformat_minor": 5
}
