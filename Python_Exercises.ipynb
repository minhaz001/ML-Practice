{
 "cells": [
  {
   "cell_type": "markdown",
   "id": "3786eaf3",
   "metadata": {},
   "source": [
    "### List Exercises"
   ]
  },
  {
   "cell_type": "code",
   "execution_count": 1,
   "id": "6d9c3fb7",
   "metadata": {},
   "outputs": [],
   "source": [
    "expense=[2200,2350,2600,2130,2190]"
   ]
  },
  {
   "cell_type": "code",
   "execution_count": 2,
   "id": "5278f97c",
   "metadata": {},
   "outputs": [
    {
     "data": {
      "text/plain": [
       "150"
      ]
     },
     "execution_count": 2,
     "metadata": {},
     "output_type": "execute_result"
    }
   ],
   "source": [
    "expense[1]-expense[0]"
   ]
  },
  {
   "cell_type": "code",
   "execution_count": 3,
   "id": "7a5f9200",
   "metadata": {},
   "outputs": [
    {
     "data": {
      "text/plain": [
       "7150"
      ]
     },
     "execution_count": 3,
     "metadata": {},
     "output_type": "execute_result"
    }
   ],
   "source": [
    "expense[0]+expense[1]+expense[2]"
   ]
  },
  {
   "cell_type": "code",
   "execution_count": 4,
   "id": "02a83d5c",
   "metadata": {},
   "outputs": [
    {
     "data": {
      "text/plain": [
       "7150"
      ]
     },
     "execution_count": 4,
     "metadata": {},
     "output_type": "execute_result"
    }
   ],
   "source": [
    "sum(expense[:3])"
   ]
  },
  {
   "cell_type": "code",
   "execution_count": 5,
   "id": "cf8932d7",
   "metadata": {},
   "outputs": [
    {
     "name": "stdout",
     "output_type": "stream",
     "text": [
      "False\n",
      "False\n",
      "False\n",
      "False\n",
      "False\n"
     ]
    }
   ],
   "source": [
    "for x in expense:\n",
    "    if x==2000:\n",
    "        print ('True')\n",
    "    else:\n",
    "        print('False')\n"
   ]
  },
  {
   "cell_type": "code",
   "execution_count": 6,
   "id": "60dd8ea3",
   "metadata": {},
   "outputs": [
    {
     "data": {
      "text/plain": [
       "False"
      ]
     },
     "execution_count": 6,
     "metadata": {},
     "output_type": "execute_result"
    }
   ],
   "source": [
    "2000 in expense"
   ]
  },
  {
   "cell_type": "code",
   "execution_count": 7,
   "id": "4738abf8",
   "metadata": {},
   "outputs": [],
   "source": [
    "expense.append(1980)"
   ]
  },
  {
   "cell_type": "code",
   "execution_count": 8,
   "id": "2175f6d8",
   "metadata": {},
   "outputs": [
    {
     "data": {
      "text/plain": [
       "[2200, 2350, 2600, 2130, 2190, 1980]"
      ]
     },
     "execution_count": 8,
     "metadata": {},
     "output_type": "execute_result"
    }
   ],
   "source": [
    "expense"
   ]
  },
  {
   "cell_type": "code",
   "execution_count": 9,
   "id": "f9cb4f4b",
   "metadata": {},
   "outputs": [],
   "source": [
    "expense[3] = 2130-200"
   ]
  },
  {
   "cell_type": "code",
   "execution_count": 10,
   "id": "385ff778",
   "metadata": {},
   "outputs": [
    {
     "data": {
      "text/plain": [
       "[2200, 2350, 2600, 1930, 2190, 1980]"
      ]
     },
     "execution_count": 10,
     "metadata": {},
     "output_type": "execute_result"
    }
   ],
   "source": [
    "expense"
   ]
  },
  {
   "cell_type": "code",
   "execution_count": null,
   "id": "f9855dc9",
   "metadata": {},
   "outputs": [],
   "source": []
  },
  {
   "cell_type": "code",
   "execution_count": 11,
   "id": "50c44788",
   "metadata": {},
   "outputs": [],
   "source": [
    "heros=['spider man','thor','hulk','iron man','captain america']"
   ]
  },
  {
   "cell_type": "code",
   "execution_count": 12,
   "id": "a9665802",
   "metadata": {},
   "outputs": [],
   "source": [
    "heros.append('black panther')"
   ]
  },
  {
   "cell_type": "code",
   "execution_count": 13,
   "id": "2d0b88cb",
   "metadata": {
    "scrolled": true
   },
   "outputs": [
    {
     "data": {
      "text/plain": [
       "['spider man', 'thor', 'hulk', 'iron man', 'captain america', 'black panther']"
      ]
     },
     "execution_count": 13,
     "metadata": {},
     "output_type": "execute_result"
    }
   ],
   "source": [
    "heros"
   ]
  },
  {
   "cell_type": "code",
   "execution_count": 14,
   "id": "13374af9",
   "metadata": {},
   "outputs": [
    {
     "data": {
      "text/plain": [
       "'black panther'"
      ]
     },
     "execution_count": 14,
     "metadata": {},
     "output_type": "execute_result"
    }
   ],
   "source": [
    "heros.pop(5)"
   ]
  },
  {
   "cell_type": "code",
   "execution_count": 15,
   "id": "c78a49a3",
   "metadata": {},
   "outputs": [
    {
     "data": {
      "text/plain": [
       "['spider man', 'thor', 'hulk', 'iron man', 'captain america']"
      ]
     },
     "execution_count": 15,
     "metadata": {},
     "output_type": "execute_result"
    }
   ],
   "source": [
    "heros"
   ]
  },
  {
   "cell_type": "code",
   "execution_count": 16,
   "id": "260c3cd5",
   "metadata": {},
   "outputs": [],
   "source": [
    "heros.insert(3,'black panther')"
   ]
  },
  {
   "cell_type": "code",
   "execution_count": 17,
   "id": "08b2bf08",
   "metadata": {},
   "outputs": [
    {
     "data": {
      "text/plain": [
       "['spider man', 'thor', 'hulk', 'black panther', 'iron man', 'captain america']"
      ]
     },
     "execution_count": 17,
     "metadata": {},
     "output_type": "execute_result"
    }
   ],
   "source": [
    "heros"
   ]
  },
  {
   "cell_type": "code",
   "execution_count": 18,
   "id": "96887717",
   "metadata": {},
   "outputs": [],
   "source": [
    "heros[1:3]= ['doctor strange']"
   ]
  },
  {
   "cell_type": "code",
   "execution_count": 19,
   "id": "c82870bf",
   "metadata": {},
   "outputs": [
    {
     "data": {
      "text/plain": [
       "['spider man',\n",
       " 'doctor strange',\n",
       " 'black panther',\n",
       " 'iron man',\n",
       " 'captain america']"
      ]
     },
     "execution_count": 19,
     "metadata": {},
     "output_type": "execute_result"
    }
   ],
   "source": [
    "heros"
   ]
  },
  {
   "cell_type": "code",
   "execution_count": 20,
   "id": "32c788be",
   "metadata": {},
   "outputs": [
    {
     "data": {
      "text/plain": [
       "'black panther'"
      ]
     },
     "execution_count": 20,
     "metadata": {},
     "output_type": "execute_result"
    }
   ],
   "source": [
    "heros[2]"
   ]
  },
  {
   "cell_type": "code",
   "execution_count": 21,
   "id": "f7712844",
   "metadata": {},
   "outputs": [],
   "source": [
    "heros.sort()"
   ]
  },
  {
   "cell_type": "code",
   "execution_count": 22,
   "id": "d8d560fc",
   "metadata": {},
   "outputs": [
    {
     "data": {
      "text/plain": [
       "['black panther',\n",
       " 'captain america',\n",
       " 'doctor strange',\n",
       " 'iron man',\n",
       " 'spider man']"
      ]
     },
     "execution_count": 22,
     "metadata": {},
     "output_type": "execute_result"
    }
   ],
   "source": [
    "heros"
   ]
  },
  {
   "cell_type": "markdown",
   "id": "d23ea04b",
   "metadata": {},
   "source": [
    "### if..."
   ]
  },
  {
   "cell_type": "code",
   "execution_count": 23,
   "id": "85ee944c",
   "metadata": {},
   "outputs": [],
   "source": [
    "india = [\"mumbai\", \"banglore\", \"chennai\", \"delhi\"]\n",
    "pakistan = [\"lahore\",\"karachi\",\"islamabad\"]\n",
    "bangladesh = [\"dhaka\", \"khulna\", \"rangpur\"]"
   ]
  },
  {
   "cell_type": "code",
   "execution_count": 24,
   "id": "318650f0",
   "metadata": {},
   "outputs": [
    {
     "name": "stdout",
     "output_type": "stream",
     "text": [
      "Enter city name: dhaka\n",
      "dhaka is in bangladesh\n"
     ]
    }
   ],
   "source": [
    "city = input('Enter city name: ')\n",
    "\n",
    "if city in india:\n",
    "    print('{} is in india'.format(city))\n",
    "elif city in pakistan:\n",
    "    print('{} is in pakistan'.format(city))\n",
    "else:\n",
    "    print('{} is in bangladesh'.format(city))"
   ]
  },
  {
   "cell_type": "code",
   "execution_count": 25,
   "id": "0da27f77",
   "metadata": {},
   "outputs": [
    {
     "name": "stdout",
     "output_type": "stream",
     "text": [
      "city 1:mumbai\n",
      "city 2:karachi\n",
      "mumbai, karachi not in same country\n"
     ]
    }
   ],
   "source": [
    "city1= input('city 1:')\n",
    "city2= input('city 2:')\n",
    "\n",
    "if city1 in india and city2 in india:\n",
    "    print('{}, {} both in india'.format(city1,city2))\n",
    "if city1 in pakistan and city2 in pakistan:\n",
    "    print('{}, {} both in pakistan'.format(city1,city2))\n",
    "if city1 in bangladesh and city2 in bangladesh:\n",
    "    print('{}, {} both in india'.format(city1,city2))\n",
    "else:\n",
    "    print('{}, {} not in same country'.format(city1,city2))"
   ]
  },
  {
   "cell_type": "code",
   "execution_count": null,
   "id": "dee86e30",
   "metadata": {},
   "outputs": [],
   "source": []
  },
  {
   "cell_type": "code",
   "execution_count": 26,
   "id": "54b942ac",
   "metadata": {},
   "outputs": [
    {
     "name": "stdout",
     "output_type": "stream",
     "text": [
      "Enter fasting sugar level:120\n",
      "high sugar level\n"
     ]
    }
   ],
   "source": [
    "sugar= input('Enter fasting sugar level:')\n",
    "sugar= float(sugar)\n",
    "if sugar < 80:\n",
    "    print('low sugar level')\n",
    "elif sugar > 100:\n",
    "    print('high sugar level')\n",
    "else:\n",
    "    print('normal sugar level')"
   ]
  },
  {
   "cell_type": "code",
   "execution_count": null,
   "id": "88fa0a59",
   "metadata": {},
   "outputs": [],
   "source": []
  },
  {
   "cell_type": "markdown",
   "id": "6dec37ef",
   "metadata": {},
   "source": [
    "### for"
   ]
  },
  {
   "cell_type": "code",
   "execution_count": 27,
   "id": "12b4d6fd",
   "metadata": {},
   "outputs": [],
   "source": [
    "result = [\"heads\",\"tails\",\"tails\",\"heads\",\"tails\",\"heads\",\"heads\",\"tails\",\"tails\",\"tails\"]"
   ]
  },
  {
   "cell_type": "code",
   "execution_count": 28,
   "id": "76005ddd",
   "metadata": {},
   "outputs": [
    {
     "name": "stdout",
     "output_type": "stream",
     "text": [
      "head count is: 4\n"
     ]
    }
   ],
   "source": [
    "count = 0\n",
    "for i in result:\n",
    "    if i=='heads':\n",
    "        count=count+1\n",
    "print('head count is:', count)\n"
   ]
  },
  {
   "cell_type": "code",
   "execution_count": null,
   "id": "8d7cf0e8",
   "metadata": {},
   "outputs": [],
   "source": []
  },
  {
   "cell_type": "code",
   "execution_count": 29,
   "id": "98d1368e",
   "metadata": {},
   "outputs": [
    {
     "name": "stdout",
     "output_type": "stream",
     "text": [
      "1\n",
      "9\n",
      "25\n",
      "49\n",
      "81\n"
     ]
    }
   ],
   "source": [
    "for x in range(1,10):\n",
    "    if x%2 != 0:\n",
    "        print (x*x)"
   ]
  },
  {
   "cell_type": "code",
   "execution_count": null,
   "id": "51632694",
   "metadata": {},
   "outputs": [],
   "source": []
  },
  {
   "cell_type": "code",
   "execution_count": 30,
   "id": "105d5a11",
   "metadata": {},
   "outputs": [],
   "source": [
    "expense_list = [2340, 2500, 2100, 3100, 2980]\n",
    "month_list = ['jan','feb','mar','apr','may']"
   ]
  },
  {
   "cell_type": "code",
   "execution_count": 31,
   "id": "fd034add",
   "metadata": {},
   "outputs": [
    {
     "name": "stdout",
     "output_type": "stream",
     "text": [
      "Enter expense amount:3100\n",
      "You spent 3100 in apr\n"
     ]
    }
   ],
   "source": [
    "x =input('Enter expense amount:')\n",
    "x= int(x)\n",
    "\n",
    "for i in range(len(expense_list)):\n",
    "    if x == expense_list[i]:\n",
    "        month=i\n",
    "        break\n",
    "\n",
    "if month != -1:\n",
    "    print ('You spent {} in {}'.format(x,month_list[i]))\n",
    "else:\n",
    "    print ('you didn\\'t spend {} on any month'.format(x))"
   ]
  },
  {
   "cell_type": "code",
   "execution_count": null,
   "id": "651301e7",
   "metadata": {},
   "outputs": [],
   "source": []
  },
  {
   "cell_type": "code",
   "execution_count": 32,
   "id": "8e11ef69",
   "metadata": {
    "scrolled": true
   },
   "outputs": [
    {
     "name": "stdout",
     "output_type": "stream",
     "text": [
      "You ran 1 miles\n",
      "Are you tired? no\n",
      "You ran 2 miles\n",
      "Are you tired? no\n",
      "You ran 3 miles\n",
      "Are you tired? no\n",
      "You ran 4 miles\n",
      "Are you tired? yes\n",
      "loser, you did not finish\n"
     ]
    }
   ],
   "source": [
    "for i in range(5):\n",
    "    print(f\"You ran {i+1} miles\")\n",
    "    tired = input(\"Are you tired? \")\n",
    "    if tired == 'yes':\n",
    "        break\n",
    "\n",
    "if i == 4:\n",
    "    print(\"Congrats! You finished 5 km race!\")\n",
    "else:\n",
    "    print(\"loser, you did not finish\")\n"
   ]
  },
  {
   "cell_type": "code",
   "execution_count": null,
   "id": "57f8944e",
   "metadata": {},
   "outputs": [],
   "source": []
  },
  {
   "cell_type": "code",
   "execution_count": 33,
   "id": "802fbd93",
   "metadata": {},
   "outputs": [
    {
     "name": "stdout",
     "output_type": "stream",
     "text": [
      "*\n",
      "**\n",
      "***\n",
      "****\n",
      "*****\n"
     ]
    }
   ],
   "source": [
    "for i in range(1,6):\n",
    "    s = ''\n",
    "    for j in range(i):\n",
    "        s += '*'\n",
    "    print(s)"
   ]
  },
  {
   "cell_type": "code",
   "execution_count": 34,
   "id": "89d49369",
   "metadata": {},
   "outputs": [
    {
     "name": "stdout",
     "output_type": "stream",
     "text": [
      "*\n",
      "**\n",
      "***\n",
      "****\n",
      "*****\n"
     ]
    }
   ],
   "source": [
    "for i in range(1,6):\n",
    "    fig= i*'*'\n",
    "    print(fig)"
   ]
  },
  {
   "cell_type": "code",
   "execution_count": 35,
   "id": "e6764839",
   "metadata": {},
   "outputs": [
    {
     "name": "stdout",
     "output_type": "stream",
     "text": [
      "*\n",
      "**\n",
      "***\n",
      "****\n",
      "*****\n"
     ]
    }
   ],
   "source": [
    "s = ''\n",
    "for i in range(1,6):\n",
    "    s += '*'\n",
    "    print(s)"
   ]
  },
  {
   "cell_type": "markdown",
   "id": "bd27aaea",
   "metadata": {},
   "source": [
    "### function"
   ]
  },
  {
   "cell_type": "code",
   "execution_count": 36,
   "id": "832a96c7",
   "metadata": {},
   "outputs": [],
   "source": [
    "def triangle_area(base,height):\n",
    "    area = (1/2)*base*height\n",
    "    print('Area of triangle is: ', area)"
   ]
  },
  {
   "cell_type": "code",
   "execution_count": 37,
   "id": "0ab5101f",
   "metadata": {},
   "outputs": [
    {
     "name": "stdout",
     "output_type": "stream",
     "text": [
      "Area of triangle is:  15.0\n"
     ]
    }
   ],
   "source": [
    "triangle_area(5,6)"
   ]
  },
  {
   "cell_type": "code",
   "execution_count": 38,
   "id": "25fde48e",
   "metadata": {},
   "outputs": [],
   "source": [
    "def triangle_area():\n",
    "    base= input('enter base:' )\n",
    "    base=int(base)\n",
    "    height= input('enter height:' )\n",
    "    height=int(height)\n",
    "    area = (1/2)*base*height\n",
    "    print('Area of triangle is: ', area)"
   ]
  },
  {
   "cell_type": "code",
   "execution_count": 39,
   "id": "148b776e",
   "metadata": {},
   "outputs": [
    {
     "name": "stdout",
     "output_type": "stream",
     "text": [
      "enter base:6\n",
      "enter height:4\n",
      "Area of triangle is:  12.0\n"
     ]
    }
   ],
   "source": [
    "triangle_area()"
   ]
  },
  {
   "cell_type": "code",
   "execution_count": 40,
   "id": "79bdd79e",
   "metadata": {},
   "outputs": [],
   "source": [
    "def triangle_area():\n",
    "    base= int(input('enter base:' ))\n",
    "    height= int(input('enter height:' ))\n",
    "    area = (1/2)*base*height\n",
    "    print('Area of triangle is: ', area)"
   ]
  },
  {
   "cell_type": "code",
   "execution_count": null,
   "id": "321c4f63",
   "metadata": {},
   "outputs": [],
   "source": []
  },
  {
   "cell_type": "code",
   "execution_count": 41,
   "id": "39786d26",
   "metadata": {},
   "outputs": [],
   "source": [
    "def area():\n",
    "    shape = str(input(\"Enter shape: 'traingle'/'rectangle'  \"))\n",
    "    if shape== 'triangle':\n",
    "        base= int(input('enter base:' ))\n",
    "        height= int(input('enter height:' ))\n",
    "        area = (1/2)*base*height\n",
    "        print('Area of triangle is: ', area)\n",
    "        \n",
    "    elif shape== 'rectangle':\n",
    "        length= int(input('enter length:' ))\n",
    "        width= int(input('enter width:' ))\n",
    "        rectangle_area=length*width\n",
    "        print('Area of rectangle is: ', rectangle_area)\n",
    "    else:\n",
    "        print('Shape not recognised. Please select among options provided')"
   ]
  },
  {
   "cell_type": "code",
   "execution_count": 42,
   "id": "0f8defab",
   "metadata": {},
   "outputs": [
    {
     "name": "stdout",
     "output_type": "stream",
     "text": [
      "Enter shape: 'traingle'/'rectangle'  rectangle\n",
      "enter length:8\n",
      "enter width:6\n",
      "Area of rectangle is:  48\n"
     ]
    }
   ],
   "source": [
    "area()"
   ]
  },
  {
   "cell_type": "code",
   "execution_count": 43,
   "id": "d8548722",
   "metadata": {},
   "outputs": [],
   "source": [
    "def area_k(shape='triangle'):\n",
    "    if shape== 'rectangle':\n",
    "        length= int(input('enter length:' ))\n",
    "        width= int(input('enter width:' ))\n",
    "        rectangle_area=length*width\n",
    "        print('Area of rectangle is: ', rectangle_area)\n",
    "    else:\n",
    "        base= int(input('enter base:' ))\n",
    "        height= int(input('enter height:' ))\n",
    "        area = (1/2)*base*height\n",
    "        print('Area of triangle is: ', area)"
   ]
  },
  {
   "cell_type": "code",
   "execution_count": 44,
   "id": "0403da54",
   "metadata": {},
   "outputs": [
    {
     "name": "stdout",
     "output_type": "stream",
     "text": [
      "enter length:6\n",
      "enter width:3\n",
      "Area of rectangle is:  18\n"
     ]
    }
   ],
   "source": [
    "area_k('rectangle')"
   ]
  },
  {
   "cell_type": "code",
   "execution_count": 45,
   "id": "cb5f9b04",
   "metadata": {},
   "outputs": [
    {
     "name": "stdout",
     "output_type": "stream",
     "text": [
      "enter base:4\n",
      "enter height:6\n",
      "Area of triangle is:  12.0\n"
     ]
    }
   ],
   "source": [
    "area_k()"
   ]
  },
  {
   "cell_type": "code",
   "execution_count": null,
   "id": "fe429477",
   "metadata": {},
   "outputs": [],
   "source": []
  },
  {
   "cell_type": "code",
   "execution_count": 46,
   "id": "cc63e387",
   "metadata": {},
   "outputs": [],
   "source": [
    "def print_pattern(num):\n",
    "    for i in range(0,10):\n",
    "        if i<=num:\n",
    "            pattern = i*'*'\n",
    "            print(pattern)"
   ]
  },
  {
   "cell_type": "code",
   "execution_count": 47,
   "id": "241fd550",
   "metadata": {},
   "outputs": [
    {
     "name": "stdout",
     "output_type": "stream",
     "text": [
      "\n",
      "*\n",
      "**\n",
      "***\n",
      "****\n",
      "*****\n",
      "******\n",
      "*******\n"
     ]
    }
   ],
   "source": [
    "print_pattern(7)"
   ]
  },
  {
   "cell_type": "code",
   "execution_count": null,
   "id": "636563e1",
   "metadata": {},
   "outputs": [],
   "source": []
  },
  {
   "cell_type": "markdown",
   "id": "233d8f3c",
   "metadata": {},
   "source": [
    "### tuples, dictionaries"
   ]
  },
  {
   "cell_type": "code",
   "execution_count": 48,
   "id": "03eeccc1",
   "metadata": {},
   "outputs": [],
   "source": [
    "country_population = {\n",
    "    'china': 143,\n",
    "    'india': 136,\n",
    "    'usa': 32,\n",
    "    'pakistan': 21\n",
    "}"
   ]
  },
  {
   "cell_type": "code",
   "execution_count": 49,
   "id": "7e38c374",
   "metadata": {},
   "outputs": [],
   "source": [
    "def add():\n",
    "    new_country= input('enter new country name:')\n",
    "    new_country= new_country.lower()\n",
    "    \n",
    "    if new_country in country_population:\n",
    "        print('it already exists')\n",
    "    \n",
    "    else:\n",
    "        new_population= int(input('enter the population'))\n",
    "        country_population[new_country]=new_population\n",
    "        print(country_population)"
   ]
  },
  {
   "cell_type": "code",
   "execution_count": 51,
   "id": "a339c5c9",
   "metadata": {},
   "outputs": [
    {
     "name": "stdout",
     "output_type": "stream",
     "text": [
      "enter new country name:france\n",
      "enter the population28\n",
      "{'china': 143, 'india': 136, 'usa': 32, 'pakistan': 21, 'germany': 25, 'france': 28}\n"
     ]
    }
   ],
   "source": [
    "add()"
   ]
  },
  {
   "cell_type": "code",
   "execution_count": null,
   "id": "ebd7717b",
   "metadata": {},
   "outputs": [],
   "source": []
  },
  {
   "cell_type": "code",
   "execution_count": 52,
   "id": "48928744",
   "metadata": {},
   "outputs": [],
   "source": [
    "def remove():\n",
    "    remove_country= input('enter country name to remove from dictionary:')\n",
    "    if remove_country in country_population:\n",
    "        country_population.pop(remove_country)\n",
    "        print(country_population)\n",
    "    else:\n",
    "        print ('country doesnt exist in dictionary')"
   ]
  },
  {
   "cell_type": "code",
   "execution_count": 53,
   "id": "d6de2484",
   "metadata": {},
   "outputs": [
    {
     "name": "stdout",
     "output_type": "stream",
     "text": [
      "enter country name to remove from dictionary:usa\n",
      "{'china': 143, 'india': 136, 'pakistan': 21, 'germany': 25, 'france': 28}\n"
     ]
    }
   ],
   "source": [
    "remove()"
   ]
  },
  {
   "cell_type": "code",
   "execution_count": null,
   "id": "b2d5355b",
   "metadata": {},
   "outputs": [],
   "source": []
  },
  {
   "cell_type": "code",
   "execution_count": 54,
   "id": "bb412323",
   "metadata": {},
   "outputs": [
    {
     "data": {
      "application/javascript": [
       "\n",
       "        if (window._pyforest_update_imports_cell) { window._pyforest_update_imports_cell('import numpy as np'); }\n",
       "    "
      ],
      "text/plain": [
       "<IPython.core.display.Javascript object>"
      ]
     },
     "metadata": {},
     "output_type": "display_data"
    },
    {
     "data": {
      "text/plain": [
       "3.141592653589793"
      ]
     },
     "execution_count": 54,
     "metadata": {},
     "output_type": "execute_result"
    }
   ],
   "source": [
    "pi= np.pi\n",
    "pi"
   ]
  },
  {
   "cell_type": "code",
   "execution_count": 55,
   "id": "fd403134",
   "metadata": {},
   "outputs": [],
   "source": [
    "def circle_calc():\n",
    "    r=int(input('Radius of circle:'))\n",
    "    area= pi*r*r\n",
    "    circumference = 2*pi*r\n",
    "    diameter= 2*r\n",
    "    \n",
    "    print('diameter of circle:', diameter)\n",
    "    print('area of circle:', area)\n",
    "    print('circumference of circle:', circumference)"
   ]
  },
  {
   "cell_type": "code",
   "execution_count": 56,
   "id": "a4183873",
   "metadata": {},
   "outputs": [
    {
     "name": "stdout",
     "output_type": "stream",
     "text": [
      "Radius of circle:6\n",
      "diameter of circle: 12\n",
      "area of circle: 113.09733552923255\n",
      "circumference of circle: 37.69911184307752\n"
     ]
    }
   ],
   "source": [
    "circle_calc()"
   ]
  },
  {
   "cell_type": "code",
   "execution_count": null,
   "id": "b87170bc",
   "metadata": {},
   "outputs": [],
   "source": []
  },
  {
   "cell_type": "markdown",
   "id": "aa2333f4",
   "metadata": {},
   "source": [
    "### reading files"
   ]
  },
  {
   "cell_type": "code",
   "execution_count": 57,
   "id": "f0febd2d",
   "metadata": {},
   "outputs": [],
   "source": [
    "import pandas as pd"
   ]
  },
  {
   "cell_type": "code",
   "execution_count": 58,
   "id": "a8e7639c",
   "metadata": {
    "scrolled": true
   },
   "outputs": [],
   "source": [
    "poem = pd.read_fwf('poem.txt')"
   ]
  },
  {
   "cell_type": "code",
   "execution_count": 59,
   "id": "50c51b66",
   "metadata": {},
   "outputs": [
    {
     "data": {
      "text/html": [
       "<div>\n",
       "<style scoped>\n",
       "    .dataframe tbody tr th:only-of-type {\n",
       "        vertical-align: middle;\n",
       "    }\n",
       "\n",
       "    .dataframe tbody tr th {\n",
       "        vertical-align: top;\n",
       "    }\n",
       "\n",
       "    .dataframe thead th {\n",
       "        text-align: right;\n",
       "    }\n",
       "</style>\n",
       "<table border=\"1\" class=\"dataframe\">\n",
       "  <thead>\n",
       "    <tr style=\"text-align: right;\">\n",
       "      <th></th>\n",
       "      <th>Two roads diverged in a yellow wood,</th>\n",
       "    </tr>\n",
       "  </thead>\n",
       "  <tbody>\n",
       "    <tr>\n",
       "      <th>0</th>\n",
       "      <td>And sorry I could not travel both</td>\n",
       "    </tr>\n",
       "    <tr>\n",
       "      <th>1</th>\n",
       "      <td>And be one traveler, long I stood</td>\n",
       "    </tr>\n",
       "    <tr>\n",
       "      <th>2</th>\n",
       "      <td>And looked down one as far as I could</td>\n",
       "    </tr>\n",
       "    <tr>\n",
       "      <th>3</th>\n",
       "      <td>To where it bent in the undergrowth;</td>\n",
       "    </tr>\n",
       "    <tr>\n",
       "      <th>4</th>\n",
       "      <td>Then took the other, as just as fair,</td>\n",
       "    </tr>\n",
       "    <tr>\n",
       "      <th>5</th>\n",
       "      <td>And having perhaps the better claim,</td>\n",
       "    </tr>\n",
       "    <tr>\n",
       "      <th>6</th>\n",
       "      <td>Because it was grassy and wanted wear;</td>\n",
       "    </tr>\n",
       "    <tr>\n",
       "      <th>7</th>\n",
       "      <td>Though as for that the passing there</td>\n",
       "    </tr>\n",
       "    <tr>\n",
       "      <th>8</th>\n",
       "      <td>Had worn them really about the same,</td>\n",
       "    </tr>\n",
       "    <tr>\n",
       "      <th>9</th>\n",
       "      <td>And both that morning equally lay</td>\n",
       "    </tr>\n",
       "    <tr>\n",
       "      <th>10</th>\n",
       "      <td>In leaves no step had trodden black.</td>\n",
       "    </tr>\n",
       "    <tr>\n",
       "      <th>11</th>\n",
       "      <td>Oh, I kept the first for another day!</td>\n",
       "    </tr>\n",
       "    <tr>\n",
       "      <th>12</th>\n",
       "      <td>Yet knowing how way leads on to way,</td>\n",
       "    </tr>\n",
       "    <tr>\n",
       "      <th>13</th>\n",
       "      <td>I doubted if I should ever come back.</td>\n",
       "    </tr>\n",
       "    <tr>\n",
       "      <th>14</th>\n",
       "      <td>I shall be telling this with a sigh</td>\n",
       "    </tr>\n",
       "    <tr>\n",
       "      <th>15</th>\n",
       "      <td>Somewhere ages and ages hence:</td>\n",
       "    </tr>\n",
       "    <tr>\n",
       "      <th>16</th>\n",
       "      <td>Two roads diverged in a wood, and I—</td>\n",
       "    </tr>\n",
       "    <tr>\n",
       "      <th>17</th>\n",
       "      <td>I took the one less traveled by,</td>\n",
       "    </tr>\n",
       "    <tr>\n",
       "      <th>18</th>\n",
       "      <td>And that has made all the difference.</td>\n",
       "    </tr>\n",
       "  </tbody>\n",
       "</table>\n",
       "</div>"
      ],
      "text/plain": [
       "      Two roads diverged in a yellow wood,\n",
       "0        And sorry I could not travel both\n",
       "1        And be one traveler, long I stood\n",
       "2    And looked down one as far as I could\n",
       "3     To where it bent in the undergrowth;\n",
       "4    Then took the other, as just as fair,\n",
       "5     And having perhaps the better claim,\n",
       "6   Because it was grassy and wanted wear;\n",
       "7     Though as for that the passing there\n",
       "8     Had worn them really about the same,\n",
       "9        And both that morning equally lay\n",
       "10    In leaves no step had trodden black.\n",
       "11   Oh, I kept the first for another day!\n",
       "12    Yet knowing how way leads on to way,\n",
       "13   I doubted if I should ever come back.\n",
       "14     I shall be telling this with a sigh\n",
       "15          Somewhere ages and ages hence:\n",
       "16    Two roads diverged in a wood, and I—\n",
       "17        I took the one less traveled by,\n",
       "18   And that has made all the difference."
      ]
     },
     "execution_count": 59,
     "metadata": {},
     "output_type": "execute_result"
    }
   ],
   "source": [
    "poem"
   ]
  },
  {
   "cell_type": "code",
   "execution_count": null,
   "id": "fc3d7325",
   "metadata": {},
   "outputs": [],
   "source": []
  },
  {
   "cell_type": "code",
   "execution_count": 60,
   "id": "e4f9a6b8",
   "metadata": {
    "scrolled": true
   },
   "outputs": [
    {
     "data": {
      "text/html": [
       "<div>\n",
       "<style scoped>\n",
       "    .dataframe tbody tr th:only-of-type {\n",
       "        vertical-align: middle;\n",
       "    }\n",
       "\n",
       "    .dataframe tbody tr th {\n",
       "        vertical-align: top;\n",
       "    }\n",
       "\n",
       "    .dataframe thead th {\n",
       "        text-align: right;\n",
       "    }\n",
       "</style>\n",
       "<table border=\"1\" class=\"dataframe\">\n",
       "  <thead>\n",
       "    <tr style=\"text-align: right;\">\n",
       "      <th></th>\n",
       "      <th>Company Name</th>\n",
       "      <th>Price</th>\n",
       "      <th>Earnings Per Share</th>\n",
       "      <th>Book Value</th>\n",
       "    </tr>\n",
       "  </thead>\n",
       "  <tbody>\n",
       "    <tr>\n",
       "      <th>0</th>\n",
       "      <td>Reliance</td>\n",
       "      <td>1467</td>\n",
       "      <td>66</td>\n",
       "      <td>653</td>\n",
       "    </tr>\n",
       "    <tr>\n",
       "      <th>1</th>\n",
       "      <td>Tata Steel</td>\n",
       "      <td>391</td>\n",
       "      <td>89</td>\n",
       "      <td>572</td>\n",
       "    </tr>\n",
       "    <tr>\n",
       "      <th>2</th>\n",
       "      <td>Infosys</td>\n",
       "      <td>650</td>\n",
       "      <td>35</td>\n",
       "      <td>147</td>\n",
       "    </tr>\n",
       "    <tr>\n",
       "      <th>3</th>\n",
       "      <td>Axis Bank</td>\n",
       "      <td>739</td>\n",
       "      <td>19</td>\n",
       "      <td>263</td>\n",
       "    </tr>\n",
       "    <tr>\n",
       "      <th>4</th>\n",
       "      <td>Bajaj Finance</td>\n",
       "      <td>4044</td>\n",
       "      <td>69</td>\n",
       "      <td>341</td>\n",
       "    </tr>\n",
       "  </tbody>\n",
       "</table>\n",
       "</div>"
      ],
      "text/plain": [
       "    Company Name  Price  Earnings Per Share   Book Value\n",
       "0       Reliance   1467                  66          653\n",
       "1     Tata Steel    391                  89          572\n",
       "2        Infosys    650                  35          147\n",
       "3      Axis Bank    739                  19          263\n",
       "4  Bajaj Finance   4044                  69          341"
      ]
     },
     "execution_count": 60,
     "metadata": {},
     "output_type": "execute_result"
    }
   ],
   "source": [
    "stock=pd.read_csv('stocks.csv')\n",
    "stock"
   ]
  },
  {
   "cell_type": "code",
   "execution_count": 61,
   "id": "e086affb",
   "metadata": {},
   "outputs": [
    {
     "data": {
      "text/html": [
       "<div>\n",
       "<style scoped>\n",
       "    .dataframe tbody tr th:only-of-type {\n",
       "        vertical-align: middle;\n",
       "    }\n",
       "\n",
       "    .dataframe tbody tr th {\n",
       "        vertical-align: top;\n",
       "    }\n",
       "\n",
       "    .dataframe thead th {\n",
       "        text-align: right;\n",
       "    }\n",
       "</style>\n",
       "<table border=\"1\" class=\"dataframe\">\n",
       "  <thead>\n",
       "    <tr style=\"text-align: right;\">\n",
       "      <th></th>\n",
       "      <th>Price</th>\n",
       "      <th>Earnings Per Share</th>\n",
       "      <th>Book Value</th>\n",
       "    </tr>\n",
       "  </thead>\n",
       "  <tbody>\n",
       "    <tr>\n",
       "      <th>count</th>\n",
       "      <td>5.000000</td>\n",
       "      <td>5.000000</td>\n",
       "      <td>5.000000</td>\n",
       "    </tr>\n",
       "    <tr>\n",
       "      <th>mean</th>\n",
       "      <td>1458.200000</td>\n",
       "      <td>55.600000</td>\n",
       "      <td>395.200000</td>\n",
       "    </tr>\n",
       "    <tr>\n",
       "      <th>std</th>\n",
       "      <td>1499.649192</td>\n",
       "      <td>28.138941</td>\n",
       "      <td>211.976886</td>\n",
       "    </tr>\n",
       "    <tr>\n",
       "      <th>min</th>\n",
       "      <td>391.000000</td>\n",
       "      <td>19.000000</td>\n",
       "      <td>147.000000</td>\n",
       "    </tr>\n",
       "    <tr>\n",
       "      <th>25%</th>\n",
       "      <td>650.000000</td>\n",
       "      <td>35.000000</td>\n",
       "      <td>263.000000</td>\n",
       "    </tr>\n",
       "    <tr>\n",
       "      <th>50%</th>\n",
       "      <td>739.000000</td>\n",
       "      <td>66.000000</td>\n",
       "      <td>341.000000</td>\n",
       "    </tr>\n",
       "    <tr>\n",
       "      <th>75%</th>\n",
       "      <td>1467.000000</td>\n",
       "      <td>69.000000</td>\n",
       "      <td>572.000000</td>\n",
       "    </tr>\n",
       "    <tr>\n",
       "      <th>max</th>\n",
       "      <td>4044.000000</td>\n",
       "      <td>89.000000</td>\n",
       "      <td>653.000000</td>\n",
       "    </tr>\n",
       "  </tbody>\n",
       "</table>\n",
       "</div>"
      ],
      "text/plain": [
       "             Price  Earnings Per Share   Book Value\n",
       "count     5.000000            5.000000     5.000000\n",
       "mean   1458.200000           55.600000   395.200000\n",
       "std    1499.649192           28.138941   211.976886\n",
       "min     391.000000           19.000000   147.000000\n",
       "25%     650.000000           35.000000   263.000000\n",
       "50%     739.000000           66.000000   341.000000\n",
       "75%    1467.000000           69.000000   572.000000\n",
       "max    4044.000000           89.000000   653.000000"
      ]
     },
     "execution_count": 61,
     "metadata": {},
     "output_type": "execute_result"
    }
   ],
   "source": [
    "stock.describe()"
   ]
  },
  {
   "cell_type": "code",
   "execution_count": null,
   "id": "200a0a4a",
   "metadata": {},
   "outputs": [],
   "source": []
  },
  {
   "cell_type": "code",
   "execution_count": 62,
   "id": "339d6294",
   "metadata": {},
   "outputs": [],
   "source": [
    "price= stock['Price'].values\n",
    "eps= stock['Earnings Per Share'].values\n"
   ]
  },
  {
   "cell_type": "code",
   "execution_count": 63,
   "id": "d40589b9",
   "metadata": {},
   "outputs": [
    {
     "data": {
      "text/plain": [
       "array([66, 89, 35, 19, 69], dtype=int64)"
      ]
     },
     "execution_count": 63,
     "metadata": {},
     "output_type": "execute_result"
    }
   ],
   "source": [
    "eps"
   ]
  },
  {
   "cell_type": "code",
   "execution_count": 64,
   "id": "e4e7293b",
   "metadata": {},
   "outputs": [],
   "source": [
    "bv=stock.iloc[:,-1].values"
   ]
  },
  {
   "cell_type": "code",
   "execution_count": 65,
   "id": "7d9261bb",
   "metadata": {},
   "outputs": [
    {
     "data": {
      "text/plain": [
       "array([653, 572, 147, 263, 341], dtype=int64)"
      ]
     },
     "execution_count": 65,
     "metadata": {},
     "output_type": "execute_result"
    }
   ],
   "source": [
    "bv"
   ]
  },
  {
   "cell_type": "code",
   "execution_count": 66,
   "id": "c5b454e1",
   "metadata": {},
   "outputs": [
    {
     "data": {
      "text/plain": [
       "array([1467,  391,  650,  739, 4044], dtype=int64)"
      ]
     },
     "execution_count": 66,
     "metadata": {},
     "output_type": "execute_result"
    }
   ],
   "source": [
    "price"
   ]
  },
  {
   "cell_type": "code",
   "execution_count": 67,
   "id": "43f7dffa",
   "metadata": {},
   "outputs": [],
   "source": [
    "pe= price/eps\n",
    "pb = price/bv"
   ]
  },
  {
   "cell_type": "code",
   "execution_count": 68,
   "id": "f37a8f42",
   "metadata": {},
   "outputs": [],
   "source": [
    "PE_Ratio = pe.round(2)\n",
    "PB_Ratio = pb.round(2)"
   ]
  },
  {
   "cell_type": "code",
   "execution_count": 69,
   "id": "234ea74f",
   "metadata": {},
   "outputs": [
    {
     "data": {
      "text/plain": [
       "array([22.23,  4.39, 18.57, 38.89, 58.61])"
      ]
     },
     "execution_count": 69,
     "metadata": {},
     "output_type": "execute_result"
    }
   ],
   "source": [
    "PE_Ratio"
   ]
  },
  {
   "cell_type": "code",
   "execution_count": 70,
   "id": "f9d2ca94",
   "metadata": {},
   "outputs": [
    {
     "data": {
      "text/plain": [
       "array([ 2.25,  0.68,  4.42,  2.81, 11.86])"
      ]
     },
     "execution_count": 70,
     "metadata": {},
     "output_type": "execute_result"
    }
   ],
   "source": [
    "PB_Ratio"
   ]
  },
  {
   "cell_type": "code",
   "execution_count": 71,
   "id": "9e65ffaf",
   "metadata": {},
   "outputs": [
    {
     "data": {
      "text/html": [
       "<div>\n",
       "<style scoped>\n",
       "    .dataframe tbody tr th:only-of-type {\n",
       "        vertical-align: middle;\n",
       "    }\n",
       "\n",
       "    .dataframe tbody tr th {\n",
       "        vertical-align: top;\n",
       "    }\n",
       "\n",
       "    .dataframe thead th {\n",
       "        text-align: right;\n",
       "    }\n",
       "</style>\n",
       "<table border=\"1\" class=\"dataframe\">\n",
       "  <thead>\n",
       "    <tr style=\"text-align: right;\">\n",
       "      <th></th>\n",
       "      <th>Company Name</th>\n",
       "      <th>Price</th>\n",
       "      <th>Earnings Per Share</th>\n",
       "      <th>Book Value</th>\n",
       "    </tr>\n",
       "  </thead>\n",
       "  <tbody>\n",
       "    <tr>\n",
       "      <th>0</th>\n",
       "      <td>Reliance</td>\n",
       "      <td>1467</td>\n",
       "      <td>66</td>\n",
       "      <td>653</td>\n",
       "    </tr>\n",
       "    <tr>\n",
       "      <th>1</th>\n",
       "      <td>Tata Steel</td>\n",
       "      <td>391</td>\n",
       "      <td>89</td>\n",
       "      <td>572</td>\n",
       "    </tr>\n",
       "    <tr>\n",
       "      <th>2</th>\n",
       "      <td>Infosys</td>\n",
       "      <td>650</td>\n",
       "      <td>35</td>\n",
       "      <td>147</td>\n",
       "    </tr>\n",
       "    <tr>\n",
       "      <th>3</th>\n",
       "      <td>Axis Bank</td>\n",
       "      <td>739</td>\n",
       "      <td>19</td>\n",
       "      <td>263</td>\n",
       "    </tr>\n",
       "    <tr>\n",
       "      <th>4</th>\n",
       "      <td>Bajaj Finance</td>\n",
       "      <td>4044</td>\n",
       "      <td>69</td>\n",
       "      <td>341</td>\n",
       "    </tr>\n",
       "  </tbody>\n",
       "</table>\n",
       "</div>"
      ],
      "text/plain": [
       "    Company Name  Price  Earnings Per Share   Book Value\n",
       "0       Reliance   1467                  66          653\n",
       "1     Tata Steel    391                  89          572\n",
       "2        Infosys    650                  35          147\n",
       "3      Axis Bank    739                  19          263\n",
       "4  Bajaj Finance   4044                  69          341"
      ]
     },
     "execution_count": 71,
     "metadata": {},
     "output_type": "execute_result"
    }
   ],
   "source": [
    "stock"
   ]
  },
  {
   "cell_type": "code",
   "execution_count": 72,
   "id": "6591d91c",
   "metadata": {},
   "outputs": [],
   "source": [
    "stock['PE_Ratio']=PE_Ratio"
   ]
  },
  {
   "cell_type": "code",
   "execution_count": 73,
   "id": "58cd8202",
   "metadata": {},
   "outputs": [],
   "source": [
    "stock['PB_Ratio']=PB_Ratio"
   ]
  },
  {
   "cell_type": "code",
   "execution_count": 74,
   "id": "da5fc709",
   "metadata": {},
   "outputs": [
    {
     "data": {
      "text/html": [
       "<div>\n",
       "<style scoped>\n",
       "    .dataframe tbody tr th:only-of-type {\n",
       "        vertical-align: middle;\n",
       "    }\n",
       "\n",
       "    .dataframe tbody tr th {\n",
       "        vertical-align: top;\n",
       "    }\n",
       "\n",
       "    .dataframe thead th {\n",
       "        text-align: right;\n",
       "    }\n",
       "</style>\n",
       "<table border=\"1\" class=\"dataframe\">\n",
       "  <thead>\n",
       "    <tr style=\"text-align: right;\">\n",
       "      <th></th>\n",
       "      <th>Company Name</th>\n",
       "      <th>Price</th>\n",
       "      <th>Earnings Per Share</th>\n",
       "      <th>Book Value</th>\n",
       "      <th>PE_Ratio</th>\n",
       "      <th>PB_Ratio</th>\n",
       "    </tr>\n",
       "  </thead>\n",
       "  <tbody>\n",
       "    <tr>\n",
       "      <th>0</th>\n",
       "      <td>Reliance</td>\n",
       "      <td>1467</td>\n",
       "      <td>66</td>\n",
       "      <td>653</td>\n",
       "      <td>22.23</td>\n",
       "      <td>2.25</td>\n",
       "    </tr>\n",
       "    <tr>\n",
       "      <th>1</th>\n",
       "      <td>Tata Steel</td>\n",
       "      <td>391</td>\n",
       "      <td>89</td>\n",
       "      <td>572</td>\n",
       "      <td>4.39</td>\n",
       "      <td>0.68</td>\n",
       "    </tr>\n",
       "    <tr>\n",
       "      <th>2</th>\n",
       "      <td>Infosys</td>\n",
       "      <td>650</td>\n",
       "      <td>35</td>\n",
       "      <td>147</td>\n",
       "      <td>18.57</td>\n",
       "      <td>4.42</td>\n",
       "    </tr>\n",
       "    <tr>\n",
       "      <th>3</th>\n",
       "      <td>Axis Bank</td>\n",
       "      <td>739</td>\n",
       "      <td>19</td>\n",
       "      <td>263</td>\n",
       "      <td>38.89</td>\n",
       "      <td>2.81</td>\n",
       "    </tr>\n",
       "    <tr>\n",
       "      <th>4</th>\n",
       "      <td>Bajaj Finance</td>\n",
       "      <td>4044</td>\n",
       "      <td>69</td>\n",
       "      <td>341</td>\n",
       "      <td>58.61</td>\n",
       "      <td>11.86</td>\n",
       "    </tr>\n",
       "  </tbody>\n",
       "</table>\n",
       "</div>"
      ],
      "text/plain": [
       "    Company Name  Price  Earnings Per Share   Book Value  PE_Ratio  PB_Ratio\n",
       "0       Reliance   1467                  66          653     22.23      2.25\n",
       "1     Tata Steel    391                  89          572      4.39      0.68\n",
       "2        Infosys    650                  35          147     18.57      4.42\n",
       "3      Axis Bank    739                  19          263     38.89      2.81\n",
       "4  Bajaj Finance   4044                  69          341     58.61     11.86"
      ]
     },
     "execution_count": 74,
     "metadata": {},
     "output_type": "execute_result"
    }
   ],
   "source": [
    "stock"
   ]
  },
  {
   "cell_type": "code",
   "execution_count": 75,
   "id": "dcf66582",
   "metadata": {},
   "outputs": [],
   "source": [
    "stock.drop(stock.iloc[:, 1:4], inplace = True, axis = 1)"
   ]
  },
  {
   "cell_type": "code",
   "execution_count": 76,
   "id": "fe5b33b2",
   "metadata": {},
   "outputs": [
    {
     "data": {
      "text/html": [
       "<div>\n",
       "<style scoped>\n",
       "    .dataframe tbody tr th:only-of-type {\n",
       "        vertical-align: middle;\n",
       "    }\n",
       "\n",
       "    .dataframe tbody tr th {\n",
       "        vertical-align: top;\n",
       "    }\n",
       "\n",
       "    .dataframe thead th {\n",
       "        text-align: right;\n",
       "    }\n",
       "</style>\n",
       "<table border=\"1\" class=\"dataframe\">\n",
       "  <thead>\n",
       "    <tr style=\"text-align: right;\">\n",
       "      <th></th>\n",
       "      <th>Company Name</th>\n",
       "      <th>PE_Ratio</th>\n",
       "      <th>PB_Ratio</th>\n",
       "    </tr>\n",
       "  </thead>\n",
       "  <tbody>\n",
       "    <tr>\n",
       "      <th>0</th>\n",
       "      <td>Reliance</td>\n",
       "      <td>22.23</td>\n",
       "      <td>2.25</td>\n",
       "    </tr>\n",
       "    <tr>\n",
       "      <th>1</th>\n",
       "      <td>Tata Steel</td>\n",
       "      <td>4.39</td>\n",
       "      <td>0.68</td>\n",
       "    </tr>\n",
       "    <tr>\n",
       "      <th>2</th>\n",
       "      <td>Infosys</td>\n",
       "      <td>18.57</td>\n",
       "      <td>4.42</td>\n",
       "    </tr>\n",
       "    <tr>\n",
       "      <th>3</th>\n",
       "      <td>Axis Bank</td>\n",
       "      <td>38.89</td>\n",
       "      <td>2.81</td>\n",
       "    </tr>\n",
       "    <tr>\n",
       "      <th>4</th>\n",
       "      <td>Bajaj Finance</td>\n",
       "      <td>58.61</td>\n",
       "      <td>11.86</td>\n",
       "    </tr>\n",
       "  </tbody>\n",
       "</table>\n",
       "</div>"
      ],
      "text/plain": [
       "    Company Name  PE_Ratio  PB_Ratio\n",
       "0       Reliance     22.23      2.25\n",
       "1     Tata Steel      4.39      0.68\n",
       "2        Infosys     18.57      4.42\n",
       "3      Axis Bank     38.89      2.81\n",
       "4  Bajaj Finance     58.61     11.86"
      ]
     },
     "execution_count": 76,
     "metadata": {},
     "output_type": "execute_result"
    }
   ],
   "source": [
    "stock"
   ]
  },
  {
   "cell_type": "code",
   "execution_count": 77,
   "id": "64409963",
   "metadata": {},
   "outputs": [],
   "source": [
    "stock.to_csv('stockmod.csv')"
   ]
  },
  {
   "cell_type": "code",
   "execution_count": null,
   "id": "2602e67d",
   "metadata": {},
   "outputs": [],
   "source": []
  },
  {
   "cell_type": "markdown",
   "id": "2a6bd8f7",
   "metadata": {},
   "source": [
    "### Classes"
   ]
  },
  {
   "cell_type": "code",
   "execution_count": 78,
   "id": "795bdddf",
   "metadata": {},
   "outputs": [],
   "source": [
    "class employee:\n",
    "    def __init__(self, id, name):\n",
    "        self.id= id\n",
    "        self.name=name\n",
    "        \n",
    "    def myfunc(self):\n",
    "        print('hello, i am ', self.name)\n",
    "        print('id no.: ', self.id)"
   ]
  },
  {
   "cell_type": "code",
   "execution_count": 79,
   "id": "8bdc060c",
   "metadata": {},
   "outputs": [],
   "source": [
    "emp1 = employee(1, 'tom')\n",
    "emp2 = employee(2, 'jerry')\n",
    "emp3 = employee(3, 'spike')"
   ]
  },
  {
   "cell_type": "code",
   "execution_count": 80,
   "id": "0ae6b520",
   "metadata": {},
   "outputs": [
    {
     "name": "stdout",
     "output_type": "stream",
     "text": [
      "hello, i am  tom\n",
      "id no.:  1\n"
     ]
    }
   ],
   "source": [
    "emp1.myfunc()"
   ]
  },
  {
   "cell_type": "code",
   "execution_count": 81,
   "id": "4eac17fc",
   "metadata": {},
   "outputs": [],
   "source": [
    "emp1.id = 4"
   ]
  },
  {
   "cell_type": "code",
   "execution_count": 82,
   "id": "3cf28994",
   "metadata": {},
   "outputs": [],
   "source": [
    "del emp3.id"
   ]
  },
  {
   "cell_type": "code",
   "execution_count": 83,
   "id": "88407525",
   "metadata": {},
   "outputs": [],
   "source": [
    "del emp3"
   ]
  },
  {
   "cell_type": "code",
   "execution_count": null,
   "id": "9bfe48ac",
   "metadata": {},
   "outputs": [],
   "source": []
  },
  {
   "cell_type": "markdown",
   "id": "9cce5b2c",
   "metadata": {},
   "source": [
    "### inheritance"
   ]
  },
  {
   "cell_type": "code",
   "execution_count": 84,
   "id": "69296a03",
   "metadata": {},
   "outputs": [],
   "source": [
    "class Animal:\n",
    "    def __init__ (self, legs, tail):\n",
    "        self.legs=legs\n",
    "        self.tail=tail\n",
    "        \n",
    "    def myself (self):\n",
    "        print('hi, i have {} legs and {} tail'.format(self.legs, self.tail))\n",
    "        \n",
    "    def habitat(self):\n",
    "        habitat = input(\"Enter habitat 'pet'/'domestic'/'wild' :\")\n",
    "        if  habitat== 'pet':\n",
    "            print('i am your pet. pet me')\n",
    "        elif habitat == 'domestic':\n",
    "            print('i am domestic. i help you')\n",
    "        elif habitat == 'wild':\n",
    "            print('i am wild. i might eat you')\n",
    "        else:\n",
    "            print('select from options provided')"
   ]
  },
  {
   "cell_type": "code",
   "execution_count": 85,
   "id": "575a28a1",
   "metadata": {},
   "outputs": [],
   "source": [
    "dog= Animal(2,'1')\n",
    "spider=Animal(8,'no')"
   ]
  },
  {
   "cell_type": "code",
   "execution_count": 86,
   "id": "66f61327",
   "metadata": {},
   "outputs": [
    {
     "name": "stdout",
     "output_type": "stream",
     "text": [
      "hi, i have 8 legs and no tail\n"
     ]
    }
   ],
   "source": [
    "spider.myself()"
   ]
  },
  {
   "cell_type": "code",
   "execution_count": 87,
   "id": "0ed82a8e",
   "metadata": {},
   "outputs": [
    {
     "name": "stdout",
     "output_type": "stream",
     "text": [
      "Enter habitat 'pet'/'domestic'/'wild' :wild\n",
      "i am wild. i might eat you\n"
     ]
    }
   ],
   "source": [
    "spider.habitat()"
   ]
  },
  {
   "cell_type": "code",
   "execution_count": 96,
   "id": "2e0bf780",
   "metadata": {},
   "outputs": [],
   "source": [
    "class Dog(Animal):\n",
    "    def __init__ (self, legs, tail, breed):\n",
    "        super().__init__(legs, tail)\n",
    "        self.breed = breed\n",
    "    def spcs(self):\n",
    "        biting = input('Does it bite? :')\n",
    "        if biting == 'yes':\n",
    "            print('i am {} and i bite'.format(self.breed))\n",
    "        else:\n",
    "            print('i am {} and i do not bite'.format(self.breed))"
   ]
  },
  {
   "cell_type": "code",
   "execution_count": 97,
   "id": "0d8df499",
   "metadata": {},
   "outputs": [],
   "source": [
    "dbmn=Dog('4', '1', 'doberman')\n",
    "lbdrtv= Dog('4', '1', 'labrodar retriver')\n",
    "pug= Dog('4', '1', 'pug')"
   ]
  },
  {
   "cell_type": "code",
   "execution_count": 98,
   "id": "fb6646c1",
   "metadata": {},
   "outputs": [
    {
     "name": "stdout",
     "output_type": "stream",
     "text": [
      "Enter habitat 'pet'/'domestic'/'wild' :pet\n",
      "i am your pet. pet me\n"
     ]
    }
   ],
   "source": [
    "lbdrtv.habitat()"
   ]
  },
  {
   "cell_type": "code",
   "execution_count": 99,
   "id": "8b58eccb",
   "metadata": {},
   "outputs": [
    {
     "name": "stdout",
     "output_type": "stream",
     "text": [
      "Does it bite? :yes\n",
      "i am doberman and i bite\n"
     ]
    }
   ],
   "source": [
    "dbmn.spcs()"
   ]
  },
  {
   "cell_type": "code",
   "execution_count": 100,
   "id": "3ee744ee",
   "metadata": {},
   "outputs": [
    {
     "name": "stdout",
     "output_type": "stream",
     "text": [
      "hi, i have 4 legs and 1 tail\n"
     ]
    }
   ],
   "source": [
    "pug.myself()"
   ]
  },
  {
   "cell_type": "code",
   "execution_count": null,
   "id": "7f277ba8",
   "metadata": {},
   "outputs": [],
   "source": []
  },
  {
   "cell_type": "code",
   "execution_count": 101,
   "id": "e5e62fe3",
   "metadata": {},
   "outputs": [],
   "source": [
    "class Teacher:\n",
    "    def teachers_action(self):\n",
    "        print(\"I can teach\")\n",
    "\n",
    "\n",
    "class Engineer:\n",
    "    def Engineers_action(self):\n",
    "        print(\"I can code\")\n",
    "\n",
    "\n",
    "class Youtuber(Teacher,Engineer):\n",
    "    pass\n"
   ]
  },
  {
   "cell_type": "code",
   "execution_count": 105,
   "id": "9de3f8e6",
   "metadata": {},
   "outputs": [],
   "source": [
    "xyz=Youtuber()"
   ]
  },
  {
   "cell_type": "code",
   "execution_count": 106,
   "id": "c2f7bba0",
   "metadata": {},
   "outputs": [
    {
     "name": "stdout",
     "output_type": "stream",
     "text": [
      "I can code\n"
     ]
    }
   ],
   "source": [
    "xyz.Engineers_action()"
   ]
  },
  {
   "cell_type": "code",
   "execution_count": 108,
   "id": "a4718e40",
   "metadata": {},
   "outputs": [
    {
     "name": "stdout",
     "output_type": "stream",
     "text": [
      "I can teach\n"
     ]
    }
   ],
   "source": [
    "xyz.teachers_action()"
   ]
  },
  {
   "cell_type": "code",
   "execution_count": null,
   "id": "18f8328a",
   "metadata": {},
   "outputs": [],
   "source": []
  },
  {
   "cell_type": "markdown",
   "id": "fba98e60",
   "metadata": {},
   "source": [
    "### iterators"
   ]
  },
  {
   "cell_type": "code",
   "execution_count": 45,
   "id": "9aa87222",
   "metadata": {},
   "outputs": [],
   "source": [
    "def fibonacci(n):\n",
    "    if n <= 0:\n",
    "        print(\"Incorrect input\")\n",
    "        \n",
    "    elif n == 1:\n",
    "        return 0\n",
    " \n",
    "    elif n == 2:\n",
    "        return 1\n",
    "    \n",
    "    else:\n",
    "        return fibonacci(n-1) + fibonacci(n-2)"
   ]
  },
  {
   "cell_type": "code",
   "execution_count": 46,
   "id": "2cde35a8",
   "metadata": {},
   "outputs": [
    {
     "data": {
      "text/plain": [
       "5"
      ]
     },
     "execution_count": 46,
     "metadata": {},
     "output_type": "execute_result"
    }
   ],
   "source": [
    "fibonacci(6)"
   ]
  },
  {
   "cell_type": "code",
   "execution_count": 47,
   "id": "83dbb67f",
   "metadata": {},
   "outputs": [],
   "source": [
    "def fib():\n",
    "    k = input(\"Enter number of terms:\")\n",
    "    k=int(k)\n",
    "    n1,n2= 0,1\n",
    "    if k<=0:\n",
    "        print('invalid input')\n",
    "    elif k == 1:\n",
    "        print(n1)\n",
    "    elif k == 2:\n",
    "        print('Sequence:')\n",
    "        print(n1)\n",
    "        print(n2)\n",
    "    else:\n",
    "        count=0\n",
    "        print('sequence:')\n",
    "        while count<k:\n",
    "            print(n1)\n",
    "            n3 = n1+n2\n",
    "            n1=n2\n",
    "            n2=n3\n",
    "            count += 1\n",
    "            "
   ]
  },
  {
   "cell_type": "code",
   "execution_count": 48,
   "id": "db1c3efa",
   "metadata": {},
   "outputs": [
    {
     "name": "stdout",
     "output_type": "stream",
     "text": [
      "Enter number of terms:15\n",
      "sequence:\n",
      "0\n",
      "1\n",
      "1\n",
      "2\n",
      "3\n",
      "5\n",
      "8\n",
      "13\n",
      "21\n",
      "34\n",
      "55\n",
      "89\n",
      "144\n",
      "233\n",
      "377\n"
     ]
    }
   ],
   "source": [
    "fib()"
   ]
  },
  {
   "cell_type": "code",
   "execution_count": null,
   "id": "6a0eb1ba",
   "metadata": {},
   "outputs": [],
   "source": []
  },
  {
   "cell_type": "code",
   "execution_count": 49,
   "id": "49b345c1",
   "metadata": {},
   "outputs": [
    {
     "name": "stdout",
     "output_type": "stream",
     "text": [
      "Enter number of terms:8\n",
      "13\n"
     ]
    }
   ],
   "source": [
    "## nth term fibonacci \n",
    "\n",
    "k = input(\"Enter number of terms:\")\n",
    "k=int(k)\n",
    "n1,n2= 0,1\n",
    "\n",
    "if k<=0:\n",
    "    print('invalid input')\n",
    "elif k == 1:\n",
    "    print(n1)\n",
    "elif k == 2:\n",
    "    print(n2)\n",
    "else:\n",
    "    count=0\n",
    "    while count<k-1:\n",
    "        n3 = n1+n2\n",
    "        n1=n2\n",
    "        n2=n3\n",
    "        count += 1\n",
    "    print(n1)"
   ]
  },
  {
   "cell_type": "code",
   "execution_count": null,
   "id": "418a0e08",
   "metadata": {},
   "outputs": [],
   "source": []
  },
  {
   "cell_type": "code",
   "execution_count": null,
   "id": "03e8a36e",
   "metadata": {},
   "outputs": [],
   "source": []
  },
  {
   "cell_type": "code",
   "execution_count": 53,
   "id": "ffe1523e",
   "metadata": {},
   "outputs": [
    {
     "name": "stdout",
     "output_type": "stream",
     "text": [
      "2022-06-09 21:29:37.757869\n"
     ]
    }
   ],
   "source": [
    "import datetime\n",
    "\n",
    "x = datetime.datetime.now()\n",
    "print(x)"
   ]
  },
  {
   "cell_type": "code",
   "execution_count": null,
   "id": "5a7873b8",
   "metadata": {},
   "outputs": [],
   "source": []
  },
  {
   "cell_type": "markdown",
   "id": "a3094d75",
   "metadata": {},
   "source": [
    "### generator"
   ]
  },
  {
   "cell_type": "code",
   "execution_count": 2,
   "id": "1c4fdab6",
   "metadata": {},
   "outputs": [],
   "source": [
    "## not generator\n",
    "def sq():\n",
    "    a=1\n",
    "    while a<20:\n",
    "        print (a*a)\n",
    "        a += 1\n",
    "    "
   ]
  },
  {
   "cell_type": "code",
   "execution_count": 3,
   "id": "6988c9ce",
   "metadata": {},
   "outputs": [
    {
     "name": "stdout",
     "output_type": "stream",
     "text": [
      "1\n",
      "4\n",
      "9\n",
      "16\n",
      "25\n",
      "36\n",
      "49\n",
      "64\n",
      "81\n",
      "100\n",
      "121\n",
      "144\n",
      "169\n",
      "196\n",
      "225\n",
      "256\n",
      "289\n",
      "324\n",
      "361\n"
     ]
    }
   ],
   "source": [
    "sq()"
   ]
  },
  {
   "cell_type": "code",
   "execution_count": 5,
   "id": "0806394b",
   "metadata": {},
   "outputs": [],
   "source": [
    "def sq_gen():\n",
    "    a=1\n",
    "    while True:\n",
    "        yield a*a\n",
    "        a+=1"
   ]
  },
  {
   "cell_type": "code",
   "execution_count": 7,
   "id": "091b0100",
   "metadata": {},
   "outputs": [
    {
     "name": "stdout",
     "output_type": "stream",
     "text": [
      "1\n",
      "4\n",
      "9\n",
      "16\n",
      "25\n",
      "36\n",
      "49\n",
      "64\n",
      "81\n",
      "100\n",
      "121\n",
      "144\n",
      "169\n",
      "196\n",
      "225\n",
      "256\n",
      "289\n"
     ]
    }
   ],
   "source": [
    "for i in sq_gen():\n",
    "    if i>300:\n",
    "        break\n",
    "    print(i)"
   ]
  },
  {
   "cell_type": "code",
   "execution_count": 8,
   "id": "d33d30b8",
   "metadata": {},
   "outputs": [],
   "source": [
    "def remote_tv():\n",
    "    yield 'cn'\n",
    "    yield 'espn'\n",
    "    yield 'ten'"
   ]
  },
  {
   "cell_type": "code",
   "execution_count": 14,
   "id": "c3310b61",
   "metadata": {},
   "outputs": [
    {
     "data": {
      "text/plain": [
       "<generator object remote_tv at 0x0000022D769DC3C0>"
      ]
     },
     "execution_count": 14,
     "metadata": {},
     "output_type": "execute_result"
    }
   ],
   "source": [
    "itr = remote_tv()\n",
    "itr"
   ]
  },
  {
   "cell_type": "code",
   "execution_count": 16,
   "id": "c2402d75",
   "metadata": {},
   "outputs": [
    {
     "data": {
      "text/plain": [
       "'espn'"
      ]
     },
     "execution_count": 16,
     "metadata": {},
     "output_type": "execute_result"
    }
   ],
   "source": [
    "next(itr)"
   ]
  },
  {
   "cell_type": "code",
   "execution_count": null,
   "id": "8939cde5",
   "metadata": {},
   "outputs": [],
   "source": []
  },
  {
   "cell_type": "code",
   "execution_count": 22,
   "id": "3d10f7a0",
   "metadata": {},
   "outputs": [],
   "source": [
    "def fibo():\n",
    "    a=0\n",
    "    b=1\n",
    "    while True:\n",
    "        yield a\n",
    "        c=a+b\n",
    "        a=b\n",
    "        b=c\n",
    "    "
   ]
  },
  {
   "cell_type": "code",
   "execution_count": 24,
   "id": "ab36cc2c",
   "metadata": {},
   "outputs": [
    {
     "name": "stdout",
     "output_type": "stream",
     "text": [
      "0\n",
      "1\n",
      "1\n",
      "2\n",
      "3\n",
      "5\n",
      "8\n",
      "13\n",
      "21\n",
      "34\n",
      "55\n",
      "89\n",
      "144\n"
     ]
    }
   ],
   "source": [
    "for f in fibo():\n",
    "    if f>200:\n",
    "        break\n",
    "    print(f)"
   ]
  },
  {
   "cell_type": "code",
   "execution_count": null,
   "id": "b77cfec5",
   "metadata": {},
   "outputs": [],
   "source": []
  },
  {
   "cell_type": "code",
   "execution_count": null,
   "id": "f37cb841",
   "metadata": {},
   "outputs": [],
   "source": []
  },
  {
   "cell_type": "code",
   "execution_count": null,
   "id": "f7cd185b",
   "metadata": {},
   "outputs": [],
   "source": []
  },
  {
   "cell_type": "code",
   "execution_count": null,
   "id": "aef8100d",
   "metadata": {},
   "outputs": [],
   "source": []
  },
  {
   "cell_type": "code",
   "execution_count": null,
   "id": "8c1abbb2",
   "metadata": {},
   "outputs": [],
   "source": []
  }
 ],
 "metadata": {
  "kernelspec": {
   "display_name": "Python 3 (ipykernel)",
   "language": "python",
   "name": "python3"
  },
  "language_info": {
   "codemirror_mode": {
    "name": "ipython",
    "version": 3
   },
   "file_extension": ".py",
   "mimetype": "text/x-python",
   "name": "python",
   "nbconvert_exporter": "python",
   "pygments_lexer": "ipython3",
   "version": "3.10.2"
  }
 },
 "nbformat": 4,
 "nbformat_minor": 5
}
